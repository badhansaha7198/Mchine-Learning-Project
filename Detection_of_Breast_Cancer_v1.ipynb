{
  "nbformat": 4,
  "nbformat_minor": 0,
  "metadata": {
    "colab": {
      "name": "Detection of Breast Cancer v1.ipynb",
      "provenance": [],
      "authorship_tag": "ABX9TyOI9SClw3BAQmM6IejaRKPG",
      "include_colab_link": true
    },
    "kernelspec": {
      "name": "python3",
      "display_name": "Python 3"
    },
    "language_info": {
      "name": "python"
    }
  },
  "cells": [
    {
      "cell_type": "markdown",
      "metadata": {
        "id": "view-in-github",
        "colab_type": "text"
      },
      "source": [
        "<a href=\"https://colab.research.google.com/github/badhansaha7198/Mchine-Learning-Project/blob/main/Detection_of_Breast_Cancer_v1.ipynb\" target=\"_parent\"><img src=\"https://colab.research.google.com/assets/colab-badge.svg\" alt=\"Open In Colab\"/></a>"
      ]
    },
    {
      "cell_type": "code",
      "execution_count": null,
      "metadata": {
        "id": "fSCMu7KKo4UE"
      },
      "outputs": [],
      "source": [
        "#import libraries\n",
        "import numpy as np\n",
        "import pandas as pd\n",
        "import matplotlib.pyplot as plt\n",
        "import seaborn as sns"
      ]
    },
    {
      "cell_type": "code",
      "source": [
        "#Loading data from drive\n",
        "from google.colab import drive\n",
        "drive.mount('/content/drive')"
      ],
      "metadata": {
        "colab": {
          "base_uri": "https://localhost:8080/"
        },
        "id": "j0lPSvrPp8th",
        "outputId": "fd807e6e-858e-4540-b59d-1436bfadbaa3"
      },
      "execution_count": null,
      "outputs": [
        {
          "output_type": "stream",
          "name": "stdout",
          "text": [
            "Mounted at /content/drive\n"
          ]
        }
      ]
    },
    {
      "cell_type": "code",
      "source": [
        "df = pd.read_csv('/content/drive/MyDrive/Data/data1.csv')\n",
        "df.head(7)"
      ],
      "metadata": {
        "colab": {
          "base_uri": "https://localhost:8080/",
          "height": 368
        },
        "id": "RG858HA6qD6Z",
        "outputId": "ff631c69-5b7c-4105-d780-bd7236f899d4"
      },
      "execution_count": null,
      "outputs": [
        {
          "output_type": "execute_result",
          "data": {
            "text/plain": [
              "   Sample code number  Clump Thickness  Uniformity of Cell Size  \\\n",
              "0             1000025                5                        1   \n",
              "1             1002945                5                        4   \n",
              "2             1015425                3                        1   \n",
              "3             1016277                6                        8   \n",
              "4             1017023                4                        1   \n",
              "5             1017122                8                       10   \n",
              "6             1018099                1                        1   \n",
              "\n",
              "   Uniformity of Cell Shape  Marginal Adhesion  Single Epithelial Cell Size  \\\n",
              "0                         1                  1                            2   \n",
              "1                         4                  5                            7   \n",
              "2                         1                  1                            2   \n",
              "3                         8                  1                            3   \n",
              "4                         1                  3                            2   \n",
              "5                        10                  8                            7   \n",
              "6                         1                  1                            2   \n",
              "\n",
              "   Bare Nuclei  Bland Chromatin  Normal Nucleoli  Mitoses  Class  \n",
              "0            1                3                1        1      2  \n",
              "1           10                3                2        1      2  \n",
              "2            2                3                1        1      2  \n",
              "3            4                3                7        1      2  \n",
              "4            1                3                1        1      2  \n",
              "5           10                9                7        1      4  \n",
              "6           10                3                1        1      2  "
            ],
            "text/html": [
              "\n",
              "  <div id=\"df-50896773-017b-470b-8813-a3637a0188de\">\n",
              "    <div class=\"colab-df-container\">\n",
              "      <div>\n",
              "<style scoped>\n",
              "    .dataframe tbody tr th:only-of-type {\n",
              "        vertical-align: middle;\n",
              "    }\n",
              "\n",
              "    .dataframe tbody tr th {\n",
              "        vertical-align: top;\n",
              "    }\n",
              "\n",
              "    .dataframe thead th {\n",
              "        text-align: right;\n",
              "    }\n",
              "</style>\n",
              "<table border=\"1\" class=\"dataframe\">\n",
              "  <thead>\n",
              "    <tr style=\"text-align: right;\">\n",
              "      <th></th>\n",
              "      <th>Sample code number</th>\n",
              "      <th>Clump Thickness</th>\n",
              "      <th>Uniformity of Cell Size</th>\n",
              "      <th>Uniformity of Cell Shape</th>\n",
              "      <th>Marginal Adhesion</th>\n",
              "      <th>Single Epithelial Cell Size</th>\n",
              "      <th>Bare Nuclei</th>\n",
              "      <th>Bland Chromatin</th>\n",
              "      <th>Normal Nucleoli</th>\n",
              "      <th>Mitoses</th>\n",
              "      <th>Class</th>\n",
              "    </tr>\n",
              "  </thead>\n",
              "  <tbody>\n",
              "    <tr>\n",
              "      <th>0</th>\n",
              "      <td>1000025</td>\n",
              "      <td>5</td>\n",
              "      <td>1</td>\n",
              "      <td>1</td>\n",
              "      <td>1</td>\n",
              "      <td>2</td>\n",
              "      <td>1</td>\n",
              "      <td>3</td>\n",
              "      <td>1</td>\n",
              "      <td>1</td>\n",
              "      <td>2</td>\n",
              "    </tr>\n",
              "    <tr>\n",
              "      <th>1</th>\n",
              "      <td>1002945</td>\n",
              "      <td>5</td>\n",
              "      <td>4</td>\n",
              "      <td>4</td>\n",
              "      <td>5</td>\n",
              "      <td>7</td>\n",
              "      <td>10</td>\n",
              "      <td>3</td>\n",
              "      <td>2</td>\n",
              "      <td>1</td>\n",
              "      <td>2</td>\n",
              "    </tr>\n",
              "    <tr>\n",
              "      <th>2</th>\n",
              "      <td>1015425</td>\n",
              "      <td>3</td>\n",
              "      <td>1</td>\n",
              "      <td>1</td>\n",
              "      <td>1</td>\n",
              "      <td>2</td>\n",
              "      <td>2</td>\n",
              "      <td>3</td>\n",
              "      <td>1</td>\n",
              "      <td>1</td>\n",
              "      <td>2</td>\n",
              "    </tr>\n",
              "    <tr>\n",
              "      <th>3</th>\n",
              "      <td>1016277</td>\n",
              "      <td>6</td>\n",
              "      <td>8</td>\n",
              "      <td>8</td>\n",
              "      <td>1</td>\n",
              "      <td>3</td>\n",
              "      <td>4</td>\n",
              "      <td>3</td>\n",
              "      <td>7</td>\n",
              "      <td>1</td>\n",
              "      <td>2</td>\n",
              "    </tr>\n",
              "    <tr>\n",
              "      <th>4</th>\n",
              "      <td>1017023</td>\n",
              "      <td>4</td>\n",
              "      <td>1</td>\n",
              "      <td>1</td>\n",
              "      <td>3</td>\n",
              "      <td>2</td>\n",
              "      <td>1</td>\n",
              "      <td>3</td>\n",
              "      <td>1</td>\n",
              "      <td>1</td>\n",
              "      <td>2</td>\n",
              "    </tr>\n",
              "    <tr>\n",
              "      <th>5</th>\n",
              "      <td>1017122</td>\n",
              "      <td>8</td>\n",
              "      <td>10</td>\n",
              "      <td>10</td>\n",
              "      <td>8</td>\n",
              "      <td>7</td>\n",
              "      <td>10</td>\n",
              "      <td>9</td>\n",
              "      <td>7</td>\n",
              "      <td>1</td>\n",
              "      <td>4</td>\n",
              "    </tr>\n",
              "    <tr>\n",
              "      <th>6</th>\n",
              "      <td>1018099</td>\n",
              "      <td>1</td>\n",
              "      <td>1</td>\n",
              "      <td>1</td>\n",
              "      <td>1</td>\n",
              "      <td>2</td>\n",
              "      <td>10</td>\n",
              "      <td>3</td>\n",
              "      <td>1</td>\n",
              "      <td>1</td>\n",
              "      <td>2</td>\n",
              "    </tr>\n",
              "  </tbody>\n",
              "</table>\n",
              "</div>\n",
              "      <button class=\"colab-df-convert\" onclick=\"convertToInteractive('df-50896773-017b-470b-8813-a3637a0188de')\"\n",
              "              title=\"Convert this dataframe to an interactive table.\"\n",
              "              style=\"display:none;\">\n",
              "        \n",
              "  <svg xmlns=\"http://www.w3.org/2000/svg\" height=\"24px\"viewBox=\"0 0 24 24\"\n",
              "       width=\"24px\">\n",
              "    <path d=\"M0 0h24v24H0V0z\" fill=\"none\"/>\n",
              "    <path d=\"M18.56 5.44l.94 2.06.94-2.06 2.06-.94-2.06-.94-.94-2.06-.94 2.06-2.06.94zm-11 1L8.5 8.5l.94-2.06 2.06-.94-2.06-.94L8.5 2.5l-.94 2.06-2.06.94zm10 10l.94 2.06.94-2.06 2.06-.94-2.06-.94-.94-2.06-.94 2.06-2.06.94z\"/><path d=\"M17.41 7.96l-1.37-1.37c-.4-.4-.92-.59-1.43-.59-.52 0-1.04.2-1.43.59L10.3 9.45l-7.72 7.72c-.78.78-.78 2.05 0 2.83L4 21.41c.39.39.9.59 1.41.59.51 0 1.02-.2 1.41-.59l7.78-7.78 2.81-2.81c.8-.78.8-2.07 0-2.86zM5.41 20L4 18.59l7.72-7.72 1.47 1.35L5.41 20z\"/>\n",
              "  </svg>\n",
              "      </button>\n",
              "      \n",
              "  <style>\n",
              "    .colab-df-container {\n",
              "      display:flex;\n",
              "      flex-wrap:wrap;\n",
              "      gap: 12px;\n",
              "    }\n",
              "\n",
              "    .colab-df-convert {\n",
              "      background-color: #E8F0FE;\n",
              "      border: none;\n",
              "      border-radius: 50%;\n",
              "      cursor: pointer;\n",
              "      display: none;\n",
              "      fill: #1967D2;\n",
              "      height: 32px;\n",
              "      padding: 0 0 0 0;\n",
              "      width: 32px;\n",
              "    }\n",
              "\n",
              "    .colab-df-convert:hover {\n",
              "      background-color: #E2EBFA;\n",
              "      box-shadow: 0px 1px 2px rgba(60, 64, 67, 0.3), 0px 1px 3px 1px rgba(60, 64, 67, 0.15);\n",
              "      fill: #174EA6;\n",
              "    }\n",
              "\n",
              "    [theme=dark] .colab-df-convert {\n",
              "      background-color: #3B4455;\n",
              "      fill: #D2E3FC;\n",
              "    }\n",
              "\n",
              "    [theme=dark] .colab-df-convert:hover {\n",
              "      background-color: #434B5C;\n",
              "      box-shadow: 0px 1px 3px 1px rgba(0, 0, 0, 0.15);\n",
              "      filter: drop-shadow(0px 1px 2px rgba(0, 0, 0, 0.3));\n",
              "      fill: #FFFFFF;\n",
              "    }\n",
              "  </style>\n",
              "\n",
              "      <script>\n",
              "        const buttonEl =\n",
              "          document.querySelector('#df-50896773-017b-470b-8813-a3637a0188de button.colab-df-convert');\n",
              "        buttonEl.style.display =\n",
              "          google.colab.kernel.accessAllowed ? 'block' : 'none';\n",
              "\n",
              "        async function convertToInteractive(key) {\n",
              "          const element = document.querySelector('#df-50896773-017b-470b-8813-a3637a0188de');\n",
              "          const dataTable =\n",
              "            await google.colab.kernel.invokeFunction('convertToInteractive',\n",
              "                                                     [key], {});\n",
              "          if (!dataTable) return;\n",
              "\n",
              "          const docLinkHtml = 'Like what you see? Visit the ' +\n",
              "            '<a target=\"_blank\" href=https://colab.research.google.com/notebooks/data_table.ipynb>data table notebook</a>'\n",
              "            + ' to learn more about interactive tables.';\n",
              "          element.innerHTML = '';\n",
              "          dataTable['output_type'] = 'display_data';\n",
              "          await google.colab.output.renderOutput(dataTable, element);\n",
              "          const docLink = document.createElement('div');\n",
              "          docLink.innerHTML = docLinkHtml;\n",
              "          element.appendChild(docLink);\n",
              "        }\n",
              "      </script>\n",
              "    </div>\n",
              "  </div>\n",
              "  "
            ]
          },
          "metadata": {},
          "execution_count": 3
        }
      ]
    },
    {
      "cell_type": "code",
      "source": [
        "#Number of rows and columns in data set\n",
        "df.shape"
      ],
      "metadata": {
        "colab": {
          "base_uri": "https://localhost:8080/"
        },
        "id": "RXX16iHRqNa4",
        "outputId": "8ca8dda7-e49c-4d01-c2fc-11e9270dd9cc"
      },
      "execution_count": null,
      "outputs": [
        {
          "output_type": "execute_result",
          "data": {
            "text/plain": [
              "(683, 11)"
            ]
          },
          "metadata": {},
          "execution_count": 4
        }
      ]
    },
    {
      "cell_type": "code",
      "source": [
        "#counting the number of empty values in each column\n",
        "df.isna().sum() "
      ],
      "metadata": {
        "colab": {
          "base_uri": "https://localhost:8080/"
        },
        "id": "NZKqfbeKqUNY",
        "outputId": "07cea0f1-eb5b-47a6-b2e3-241bef7664a8"
      },
      "execution_count": null,
      "outputs": [
        {
          "output_type": "execute_result",
          "data": {
            "text/plain": [
              "Sample code number             0\n",
              "Clump Thickness                0\n",
              "Uniformity of Cell Size        0\n",
              "Uniformity of Cell Shape       0\n",
              "Marginal Adhesion              0\n",
              "Single Epithelial Cell Size    0\n",
              "Bare Nuclei                    0\n",
              "Bland Chromatin                0\n",
              "Normal Nucleoli                0\n",
              "Mitoses                        0\n",
              "Class                          0\n",
              "dtype: int64"
            ]
          },
          "metadata": {},
          "execution_count": 5
        }
      ]
    },
    {
      "cell_type": "code",
      "source": [
        "#Get a number of the Malignant (4) and Bening (2) cells\n",
        "df['Class'].value_counts()"
      ],
      "metadata": {
        "colab": {
          "base_uri": "https://localhost:8080/"
        },
        "id": "Jsx6yiRsqXfd",
        "outputId": "ca756ba8-86bd-4e34-ea8b-44ea84754438"
      },
      "execution_count": null,
      "outputs": [
        {
          "output_type": "execute_result",
          "data": {
            "text/plain": [
              "2    444\n",
              "4    239\n",
              "Name: Class, dtype: int64"
            ]
          },
          "metadata": {},
          "execution_count": 6
        }
      ]
    },
    {
      "cell_type": "code",
      "source": [
        "#Visualize the count\n",
        "sns.countplot(df['Class'], label='count')"
      ],
      "metadata": {
        "colab": {
          "base_uri": "https://localhost:8080/",
          "height": 353
        },
        "id": "euKFHlWUqaJX",
        "outputId": "99326a7c-2b2f-4f57-f29b-764336f24919"
      },
      "execution_count": null,
      "outputs": [
        {
          "output_type": "stream",
          "name": "stderr",
          "text": [
            "/usr/local/lib/python3.7/dist-packages/seaborn/_decorators.py:43: FutureWarning: Pass the following variable as a keyword arg: x. From version 0.12, the only valid positional argument will be `data`, and passing other arguments without an explicit keyword will result in an error or misinterpretation.\n",
            "  FutureWarning\n"
          ]
        },
        {
          "output_type": "execute_result",
          "data": {
            "text/plain": [
              "<matplotlib.axes._subplots.AxesSubplot at 0x7fe0d11e31d0>"
            ]
          },
          "metadata": {},
          "execution_count": 7
        },
        {
          "output_type": "display_data",
          "data": {
            "text/plain": [
              "<Figure size 432x288 with 1 Axes>"
            ],
            "image/png": "[encoded data removed]"
          },
          "metadata": {
            "needs_background": "light"
          }
        }
      ]
    },
    {
      "cell_type": "code",
      "source": [
        "#Correlation of columns\n",
        "df.iloc[:,1:11].corr()"
      ],
      "metadata": {
        "colab": {
          "base_uri": "https://localhost:8080/",
          "height": 653
        },
        "id": "W6h2nJ5RqdWz",
        "outputId": "b833e6a5-43d0-4059-b7dc-bbec96da762f"
      },
      "execution_count": null,
      "outputs": [
        {
          "output_type": "execute_result",
          "data": {
            "text/plain": [
              "                             Clump Thickness  Uniformity of Cell Size  \\\n",
              "Clump Thickness                     1.000000                 0.642481   \n",
              "Uniformity of Cell Size             0.642481                 1.000000   \n",
              "Uniformity of Cell Shape            0.653470                 0.907228   \n",
              "Marginal Adhesion                   0.487829                 0.706977   \n",
              "Single Epithelial Cell Size         0.523596                 0.753544   \n",
              "Bare Nuclei                         0.593091                 0.691709   \n",
              "Bland Chromatin                     0.553742                 0.755559   \n",
              "Normal Nucleoli                     0.534066                 0.719346   \n",
              "Mitoses                             0.350957                 0.460755   \n",
              "Class                               0.714790                 0.820801   \n",
              "\n",
              "                             Uniformity of Cell Shape  Marginal Adhesion  \\\n",
              "Clump Thickness                              0.653470           0.487829   \n",
              "Uniformity of Cell Size                      0.907228           0.706977   \n",
              "Uniformity of Cell Shape                     1.000000           0.685948   \n",
              "Marginal Adhesion                            0.685948           1.000000   \n",
              "Single Epithelial Cell Size                  0.722462           0.594548   \n",
              "Bare Nuclei                                  0.713878           0.670648   \n",
              "Bland Chromatin                              0.735344           0.668567   \n",
              "Normal Nucleoli                              0.717963           0.603121   \n",
              "Mitoses                                      0.441258           0.418898   \n",
              "Class                                        0.821891           0.706294   \n",
              "\n",
              "                             Single Epithelial Cell Size  Bare Nuclei  \\\n",
              "Clump Thickness                                 0.523596     0.593091   \n",
              "Uniformity of Cell Size                         0.753544     0.691709   \n",
              "Uniformity of Cell Shape                        0.722462     0.713878   \n",
              "Marginal Adhesion                               0.594548     0.670648   \n",
              "Single Epithelial Cell Size                     1.000000     0.585716   \n",
              "Bare Nuclei                                     0.585716     1.000000   \n",
              "Bland Chromatin                                 0.618128     0.680615   \n",
              "Normal Nucleoli                                 0.628926     0.584280   \n",
              "Mitoses                                         0.480583     0.339210   \n",
              "Class                                           0.690958     0.822696   \n",
              "\n",
              "                             Bland Chromatin  Normal Nucleoli   Mitoses  \\\n",
              "Clump Thickness                     0.553742         0.534066  0.350957   \n",
              "Uniformity of Cell Size             0.755559         0.719346  0.460755   \n",
              "Uniformity of Cell Shape            0.735344         0.717963  0.441258   \n",
              "Marginal Adhesion                   0.668567         0.603121  0.418898   \n",
              "Single Epithelial Cell Size         0.618128         0.628926  0.480583   \n",
              "Bare Nuclei                         0.680615         0.584280  0.339210   \n",
              "Bland Chromatin                     1.000000         0.665602  0.346011   \n",
              "Normal Nucleoli                     0.665602         1.000000  0.433757   \n",
              "Mitoses                             0.346011         0.433757  1.000000   \n",
              "Class                               0.758228         0.718677  0.423448   \n",
              "\n",
              "                                Class  \n",
              "Clump Thickness              0.714790  \n",
              "Uniformity of Cell Size      0.820801  \n",
              "Uniformity of Cell Shape     0.821891  \n",
              "Marginal Adhesion            0.706294  \n",
              "Single Epithelial Cell Size  0.690958  \n",
              "Bare Nuclei                  0.822696  \n",
              "Bland Chromatin              0.758228  \n",
              "Normal Nucleoli              0.718677  \n",
              "Mitoses                      0.423448  \n",
              "Class                        1.000000  "
            ],
            "text/html": [
              "\n",
              "  <div id=\"df-a98c3f9c-5261-4b92-ad10-d759fa86c19e\">\n",
              "    <div class=\"colab-df-container\">\n",
              "      <div>\n",
              "<style scoped>\n",
              "    .dataframe tbody tr th:only-of-type {\n",
              "        vertical-align: middle;\n",
              "    }\n",
              "\n",
              "    .dataframe tbody tr th {\n",
              "        vertical-align: top;\n",
              "    }\n",
              "\n",
              "    .dataframe thead th {\n",
              "        text-align: right;\n",
              "    }\n",
              "</style>\n",
              "<table border=\"1\" class=\"dataframe\">\n",
              "  <thead>\n",
              "    <tr style=\"text-align: right;\">\n",
              "      <th></th>\n",
              "      <th>Clump Thickness</th>\n",
              "      <th>Uniformity of Cell Size</th>\n",
              "      <th>Uniformity of Cell Shape</th>\n",
              "      <th>Marginal Adhesion</th>\n",
              "      <th>Single Epithelial Cell Size</th>\n",
              "      <th>Bare Nuclei</th>\n",
              "      <th>Bland Chromatin</th>\n",
              "      <th>Normal Nucleoli</th>\n",
              "      <th>Mitoses</th>\n",
              "      <th>Class</th>\n",
              "    </tr>\n",
              "  </thead>\n",
              "  <tbody>\n",
              "    <tr>\n",
              "      <th>Clump Thickness</th>\n",
              "      <td>1.000000</td>\n",
              "      <td>0.642481</td>\n",
              "      <td>0.653470</td>\n",
              "      <td>0.487829</td>\n",
              "      <td>0.523596</td>\n",
              "      <td>0.593091</td>\n",
              "      <td>0.553742</td>\n",
              "      <td>0.534066</td>\n",
              "      <td>0.350957</td>\n",
              "      <td>0.714790</td>\n",
              "    </tr>\n",
              "    <tr>\n",
              "      <th>Uniformity of Cell Size</th>\n",
              "      <td>0.642481</td>\n",
              "      <td>1.000000</td>\n",
              "      <td>0.907228</td>\n",
              "      <td>0.706977</td>\n",
              "      <td>0.753544</td>\n",
              "      <td>0.691709</td>\n",
              "      <td>0.755559</td>\n",
              "      <td>0.719346</td>\n",
              "      <td>0.460755</td>\n",
              "      <td>0.820801</td>\n",
              "    </tr>\n",
              "    <tr>\n",
              "      <th>Uniformity of Cell Shape</th>\n",
              "      <td>0.653470</td>\n",
              "      <td>0.907228</td>\n",
              "      <td>1.000000</td>\n",
              "      <td>0.685948</td>\n",
              "      <td>0.722462</td>\n",
              "      <td>0.713878</td>\n",
              "      <td>0.735344</td>\n",
              "      <td>0.717963</td>\n",
              "      <td>0.441258</td>\n",
              "      <td>0.821891</td>\n",
              "    </tr>\n",
              "    <tr>\n",
              "      <th>Marginal Adhesion</th>\n",
              "      <td>0.487829</td>\n",
              "      <td>0.706977</td>\n",
              "      <td>0.685948</td>\n",
              "      <td>1.000000</td>\n",
              "      <td>0.594548</td>\n",
              "      <td>0.670648</td>\n",
              "      <td>0.668567</td>\n",
              "      <td>0.603121</td>\n",
              "      <td>0.418898</td>\n",
              "      <td>0.706294</td>\n",
              "    </tr>\n",
              "    <tr>\n",
              "      <th>Single Epithelial Cell Size</th>\n",
              "      <td>0.523596</td>\n",
              "      <td>0.753544</td>\n",
              "      <td>0.722462</td>\n",
              "      <td>0.594548</td>\n",
              "      <td>1.000000</td>\n",
              "      <td>0.585716</td>\n",
              "      <td>0.618128</td>\n",
              "      <td>0.628926</td>\n",
              "      <td>0.480583</td>\n",
              "      <td>0.690958</td>\n",
              "    </tr>\n",
              "    <tr>\n",
              "      <th>Bare Nuclei</th>\n",
              "      <td>0.593091</td>\n",
              "      <td>0.691709</td>\n",
              "      <td>0.713878</td>\n",
              "      <td>0.670648</td>\n",
              "      <td>0.585716</td>\n",
              "      <td>1.000000</td>\n",
              "      <td>0.680615</td>\n",
              "      <td>0.584280</td>\n",
              "      <td>0.339210</td>\n",
              "      <td>0.822696</td>\n",
              "    </tr>\n",
              "    <tr>\n",
              "      <th>Bland Chromatin</th>\n",
              "      <td>0.553742</td>\n",
              "      <td>0.755559</td>\n",
              "      <td>0.735344</td>\n",
              "      <td>0.668567</td>\n",
              "      <td>0.618128</td>\n",
              "      <td>0.680615</td>\n",
              "      <td>1.000000</td>\n",
              "      <td>0.665602</td>\n",
              "      <td>0.346011</td>\n",
              "      <td>0.758228</td>\n",
              "    </tr>\n",
              "    <tr>\n",
              "      <th>Normal Nucleoli</th>\n",
              "      <td>0.534066</td>\n",
              "      <td>0.719346</td>\n",
              "      <td>0.717963</td>\n",
              "      <td>0.603121</td>\n",
              "      <td>0.628926</td>\n",
              "      <td>0.584280</td>\n",
              "      <td>0.665602</td>\n",
              "      <td>1.000000</td>\n",
              "      <td>0.433757</td>\n",
              "      <td>0.718677</td>\n",
              "    </tr>\n",
              "    <tr>\n",
              "      <th>Mitoses</th>\n",
              "      <td>0.350957</td>\n",
              "      <td>0.460755</td>\n",
              "      <td>0.441258</td>\n",
              "      <td>0.418898</td>\n",
              "      <td>0.480583</td>\n",
              "      <td>0.339210</td>\n",
              "      <td>0.346011</td>\n",
              "      <td>0.433757</td>\n",
              "      <td>1.000000</td>\n",
              "      <td>0.423448</td>\n",
              "    </tr>\n",
              "    <tr>\n",
              "      <th>Class</th>\n",
              "      <td>0.714790</td>\n",
              "      <td>0.820801</td>\n",
              "      <td>0.821891</td>\n",
              "      <td>0.706294</td>\n",
              "      <td>0.690958</td>\n",
              "      <td>0.822696</td>\n",
              "      <td>0.758228</td>\n",
              "      <td>0.718677</td>\n",
              "      <td>0.423448</td>\n",
              "      <td>1.000000</td>\n",
              "    </tr>\n",
              "  </tbody>\n",
              "</table>\n",
              "</div>\n",
              "      <button class=\"colab-df-convert\" onclick=\"convertToInteractive('df-a98c3f9c-5261-4b92-ad10-d759fa86c19e')\"\n",
              "              title=\"Convert this dataframe to an interactive table.\"\n",
              "              style=\"display:none;\">\n",
              "        \n",
              "  <svg xmlns=\"http://www.w3.org/2000/svg\" height=\"24px\"viewBox=\"0 0 24 24\"\n",
              "       width=\"24px\">\n",
              "    <path d=\"M0 0h24v24H0V0z\" fill=\"none\"/>\n",
              "    <path d=\"M18.56 5.44l.94 2.06.94-2.06 2.06-.94-2.06-.94-.94-2.06-.94 2.06-2.06.94zm-11 1L8.5 8.5l.94-2.06 2.06-.94-2.06-.94L8.5 2.5l-.94 2.06-2.06.94zm10 10l.94 2.06.94-2.06 2.06-.94-2.06-.94-.94-2.06-.94 2.06-2.06.94z\"/><path d=\"M17.41 7.96l-1.37-1.37c-.4-.4-.92-.59-1.43-.59-.52 0-1.04.2-1.43.59L10.3 9.45l-7.72 7.72c-.78.78-.78 2.05 0 2.83L4 21.41c.39.39.9.59 1.41.59.51 0 1.02-.2 1.41-.59l7.78-7.78 2.81-2.81c.8-.78.8-2.07 0-2.86zM5.41 20L4 18.59l7.72-7.72 1.47 1.35L5.41 20z\"/>\n",
              "  </svg>\n",
              "      </button>\n",
              "      \n",
              "  <style>\n",
              "    .colab-df-container {\n",
              "      display:flex;\n",
              "      flex-wrap:wrap;\n",
              "      gap: 12px;\n",
              "    }\n",
              "\n",
              "    .colab-df-convert {\n",
              "      background-color: #E8F0FE;\n",
              "      border: none;\n",
              "      border-radius: 50%;\n",
              "      cursor: pointer;\n",
              "      display: none;\n",
              "      fill: #1967D2;\n",
              "      height: 32px;\n",
              "      padding: 0 0 0 0;\n",
              "      width: 32px;\n",
              "    }\n",
              "\n",
              "    .colab-df-convert:hover {\n",
              "      background-color: #E2EBFA;\n",
              "      box-shadow: 0px 1px 2px rgba(60, 64, 67, 0.3), 0px 1px 3px 1px rgba(60, 64, 67, 0.15);\n",
              "      fill: #174EA6;\n",
              "    }\n",
              "\n",
              "    [theme=dark] .colab-df-convert {\n",
              "      background-color: #3B4455;\n",
              "      fill: #D2E3FC;\n",
              "    }\n",
              "\n",
              "    [theme=dark] .colab-df-convert:hover {\n",
              "      background-color: #434B5C;\n",
              "      box-shadow: 0px 1px 3px 1px rgba(0, 0, 0, 0.15);\n",
              "      filter: drop-shadow(0px 1px 2px rgba(0, 0, 0, 0.3));\n",
              "      fill: #FFFFFF;\n",
              "    }\n",
              "  </style>\n",
              "\n",
              "      <script>\n",
              "        const buttonEl =\n",
              "          document.querySelector('#df-a98c3f9c-5261-4b92-ad10-d759fa86c19e button.colab-df-convert');\n",
              "        buttonEl.style.display =\n",
              "          google.colab.kernel.accessAllowed ? 'block' : 'none';\n",
              "\n",
              "        async function convertToInteractive(key) {\n",
              "          const element = document.querySelector('#df-a98c3f9c-5261-4b92-ad10-d759fa86c19e');\n",
              "          const dataTable =\n",
              "            await google.colab.kernel.invokeFunction('convertToInteractive',\n",
              "                                                     [key], {});\n",
              "          if (!dataTable) return;\n",
              "\n",
              "          const docLinkHtml = 'Like what you see? Visit the ' +\n",
              "            '<a target=\"_blank\" href=https://colab.research.google.com/notebooks/data_table.ipynb>data table notebook</a>'\n",
              "            + ' to learn more about interactive tables.';\n",
              "          element.innerHTML = '';\n",
              "          dataTable['output_type'] = 'display_data';\n",
              "          await google.colab.output.renderOutput(dataTable, element);\n",
              "          const docLink = document.createElement('div');\n",
              "          docLink.innerHTML = docLinkHtml;\n",
              "          element.appendChild(docLink);\n",
              "        }\n",
              "      </script>\n",
              "    </div>\n",
              "  </div>\n",
              "  "
            ]
          },
          "metadata": {},
          "execution_count": 8
        }
      ]
    },
    {
      "cell_type": "code",
      "source": [
        "#Visualize the correlation\n",
        "plt.figure(figsize=(10,10))\n",
        "sns.heatmap(df.iloc[:,1:11].corr(), annot=True, fmt='.0%')"
      ],
      "metadata": {
        "colab": {
          "base_uri": "https://localhost:8080/",
          "height": 729
        },
        "id": "xqfFRaw2qfvC",
        "outputId": "4a935479-19d9-4984-8ddc-d9e9f01a6ffd"
      },
      "execution_count": null,
      "outputs": [
        {
          "output_type": "execute_result",
          "data": {
            "text/plain": [
              "<matplotlib.axes._subplots.AxesSubplot at 0x7fe0d11823d0>"
            ]
          },
          "metadata": {},
          "execution_count": 9
        },
        {
          "output_type": "display_data",
          "data": {
            "text/plain": [
              "<Figure size 720x720 with 2 Axes>"
            ],
            "image/png": "[encoded data removed]"
          },
          "metadata": {
            "needs_background": "light"
          }
        }
      ]
    },
    {
      "cell_type": "code",
      "source": [
        "#Split the data set into independent(X) and dependent(y) data set\n",
        "X = df.iloc[:,1:10].values\n",
        "y = df.iloc[:,10].values"
      ],
      "metadata": {
        "id": "fBDhDRhnqj_R"
      },
      "execution_count": null,
      "outputs": []
    },
    {
      "cell_type": "code",
      "source": [
        "#Train_Test_Split 80:20\n",
        "from sklearn.model_selection import train_test_split\n",
        "X_train, X_test, y_train, y_test = train_test_split(X, y, test_size=0.2, random_state=0)"
      ],
      "metadata": {
        "id": "O_PmyVW7q3tw"
      },
      "execution_count": null,
      "outputs": []
    },
    {
      "cell_type": "code",
      "source": [
        "#Scale the data\n",
        "from sklearn.preprocessing import StandardScaler\n",
        "sc = StandardScaler()\n",
        "X_train = sc.fit_transform(X_train)\n",
        "X_test = sc.fit_transform(X_test)"
      ],
      "metadata": {
        "id": "I04VyEfPri3B"
      },
      "execution_count": null,
      "outputs": []
    },
    {
      "cell_type": "code",
      "source": [
        "#Creat function for the models\n",
        "def models(X_train, y_train):\n",
        "\n",
        "  #SVM\n",
        "  from sklearn.svm import SVC\n",
        "  svm = SVC(gamma='auto')\n",
        "  svm.fit(X_train, y_train)\n",
        "\n",
        "  #KNN\n",
        "  from sklearn.neighbors import KNeighborsClassifier\n",
        "  knn = KNeighborsClassifier(n_neighbors=5)\n",
        "  knn.fit(X_train, y_train)\n",
        "\n",
        "  #Logistic Regression\n",
        "  from sklearn.linear_model import LogisticRegression\n",
        "  log = LogisticRegression(random_state=0)\n",
        "  log.fit(X_train, y_train)\n",
        "\n",
        "  #Decision Tree\n",
        "  from sklearn.tree import DecisionTreeClassifier\n",
        "  tree = DecisionTreeClassifier(criterion='entropy', random_state=0)\n",
        "  tree.fit(X_train, y_train)\n",
        "\n",
        "  #Random Forest\n",
        "  from sklearn.ensemble import RandomForestClassifier\n",
        "  forest = RandomForestClassifier(n_estimators=10, criterion='entropy', random_state=0)\n",
        "  forest.fit(X_train, y_train)\n",
        "\n",
        "  #Model accuracy\n",
        "  print('[0] Support Vector Machine Training Accuracy: ', svm.score(X_train, y_train))\n",
        "  print('[1] K-nearest neighbors Training Accuracy: ', knn.score(X_train, y_train))\n",
        "  print('[2] Logistic Regression Training Accuracy: ', log.score(X_train, y_train))\n",
        "  print('[3] Decision Tree Training Accuracy: ', tree.score(X_train, y_train))\n",
        "  print('[4] Random Forest Training Accuracy: ', forest.score(X_train, y_train))\n",
        "  \n",
        "\n",
        "  return svm, knn, log, tree, forest"
      ],
      "metadata": {
        "id": "26eF6Wb7rnRY"
      },
      "execution_count": null,
      "outputs": []
    },
    {
      "cell_type": "code",
      "source": [
        "#Getting all of the models training accuracy\n",
        "model = models(X_train, y_train)"
      ],
      "metadata": {
        "colab": {
          "base_uri": "https://localhost:8080/"
        },
        "id": "-USyLJx0sMhv",
        "outputId": "413bfe52-2b6c-443b-bedd-83cf9bf2de02"
      },
      "execution_count": null,
      "outputs": [
        {
          "output_type": "stream",
          "name": "stdout",
          "text": [
            "[0] Support Vector Machine Training Accuracy:  0.9725274725274725\n",
            "[1] K-nearest neighbors Training Accuracy:  0.9725274725274725\n",
            "[2] Logistic Regression Training Accuracy:  0.9743589743589743\n",
            "[3] Decision Tree Training Accuracy:  1.0\n",
            "[4] Random Forest Training Accuracy:  0.9963369963369964\n"
          ]
        }
      ]
    },
    {
      "cell_type": "code",
      "source": [
        "#Getting all of the models testing accuracy\n",
        "from sklearn.metrics import confusion_matrix\n",
        "\n",
        "for i in range( len(model) ):\n",
        "  print('Model: ', i)\n",
        "  cm = confusion_matrix(y_test, model[i].predict(X_test))\n",
        "\n",
        "  TP = cm[0][0]\n",
        "  TN = cm[1][1]\n",
        "  FN = cm[1][0]\n",
        "  FP = cm[0][1]\n",
        "\n",
        "  print(cm)\n",
        "  print('Testing Accuracy = ', (TP + TN) / (TP + TN +FN + FP))\n",
        "  print()"
      ],
      "metadata": {
        "id": "rxJT63t8ysmj",
        "outputId": "8274b27d-1bd7-4d30-ada9-6e420183d1c1",
        "colab": {
          "base_uri": "https://localhost:8080/"
        }
      },
      "execution_count": null,
      "outputs": [
        {
          "output_type": "stream",
          "name": "stdout",
          "text": [
            "Model:  0\n",
            "[[82  5]\n",
            " [ 1 49]]\n",
            "Testing Accuracy =  0.9562043795620438\n",
            "\n",
            "Model:  1\n",
            "[[82  5]\n",
            " [ 2 48]]\n",
            "Testing Accuracy =  0.948905109489051\n",
            "\n",
            "Model:  2\n",
            "[[84  3]\n",
            " [ 3 47]]\n",
            "Testing Accuracy =  0.9562043795620438\n",
            "\n",
            "Model:  3\n",
            "[[84  3]\n",
            " [ 3 47]]\n",
            "Testing Accuracy =  0.9562043795620438\n",
            "\n",
            "Model:  4\n",
            "[[83  4]\n",
            " [ 1 49]]\n",
            "Testing Accuracy =  0.9635036496350365\n",
            "\n"
          ]
        }
      ]
    }
  ]
}